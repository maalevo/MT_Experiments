{
 "cells": [
  {
   "cell_type": "code",
   "execution_count": 41,
   "metadata": {},
   "outputs": [],
   "source": [
    "from pomegranate import *\n",
    "import numpy as np"
   ]
  },
  {
   "cell_type": "code",
   "execution_count": 62,
   "metadata": {},
   "outputs": [],
   "source": [
    "model = HiddenMarkovModel(name=\"weather\")\n",
    "\n",
    "sunny_emissions = DiscreteDistribution({\"good\": 0.7, \"bad\": 0.3})\n",
    "sunny_state = State(sunny_emissions, name=\"Sunny\")\n",
    "\n",
    "cloudy_emissions = DiscreteDistribution({\"good\": 0.6, \"bad\": 0.4})\n",
    "cloudy_state = State(cloudy_emissions, name=\"Cloudy\")\n",
    "\n",
    "rainy_emissions = DiscreteDistribution({\"good\": 0.1, \"bad\": 0.9})\n",
    "rainy_state = State(rainy_emissions, name=\"Rainy\")\n",
    "\n",
    "# add the states to the model\n",
    "model.add_states(sunny_state, cloudy_state, rainy_state)\n",
    "\n",
    "model.add_transition(sunny_state, sunny_state, 0.6)\n",
    "model.add_transition(sunny_state, cloudy_state, 0.4)\n",
    "model.add_transition(sunny_state, rainy_state, 0.0)\n",
    "\n",
    "model.add_transition(cloudy_state, sunny_state, 0.3)\n",
    "model.add_transition(cloudy_state, cloudy_state, 0.4)\n",
    "model.add_transition(cloudy_state, rainy_state, 0.3)\n",
    "\n",
    "model.add_transition(rainy_state, sunny_state, 0.0)\n",
    "model.add_transition(rainy_state, cloudy_state, 0.5)\n",
    "model.add_transition(rainy_state, rainy_state, 0.5)\n",
    "\n",
    "model.add_transition(model.start, sunny_state, 0.33)\n",
    "model.add_transition(model.start, cloudy_state, 0.34)\n",
    "model.add_transition(model.start, rainy_state, 0.33)\n",
    "\n",
    "model.bake()"
   ]
  },
  {
   "cell_type": "code",
   "execution_count": 52,
   "metadata": {},
   "outputs": [],
   "source": [
    "observations = ['good', 'good', 'bad', 'bad', 'good']"
   ]
  },
  {
   "cell_type": "code",
   "execution_count": 63,
   "metadata": {},
   "outputs": [
    {
     "name": "stdout",
     "output_type": "stream",
     "text": [
      "The most likely weather sequence to have generated these observations is ['Sunny', 'Cloudy', 'Rainy', 'Rainy', 'Cloudy'] at 0.20%.\n"
     ]
    }
   ],
   "source": [
    "# input a sequence of 'yes'/'no' values in the list below for testing\n",
    "viterbi_likelihood, viterbi_path = model.viterbi(observations)\n",
    "print(\"The most likely weather sequence to have generated these observations is {} at {:.2f}%.\"\n",
    "      .format([s[1].name for s in viterbi_path[1:]], np.exp(viterbi_likelihood)*100)\n",
    ")"
   ]
  },
  {
   "cell_type": "code",
   "execution_count": 65,
   "metadata": {},
   "outputs": [
    {
     "name": "stdout",
     "output_type": "stream",
     "text": [
      "0.002020788000000002\n"
     ]
    }
   ],
   "source": [
    "print(np.exp(viterbi_likelihood))"
   ]
  },
  {
   "cell_type": "code",
   "execution_count": 66,
   "metadata": {},
   "outputs": [
    {
     "name": "stdout",
     "output_type": "stream",
     "text": [
      "[(3, {\n",
      "    \"class\" : \"State\",\n",
      "    \"distribution\" : null,\n",
      "    \"name\" : \"weather-start\",\n",
      "    \"weight\" : 1.0\n",
      "}), (2, {\n",
      "    \"class\" : \"State\",\n",
      "    \"distribution\" : {\n",
      "        \"class\" : \"Distribution\",\n",
      "        \"dtype\" : \"str\",\n",
      "        \"name\" : \"DiscreteDistribution\",\n",
      "        \"parameters\" : [\n",
      "            {\n",
      "                \"good\" : 0.7,\n",
      "                \"bad\" : 0.3\n",
      "            }\n",
      "        ],\n",
      "        \"frozen\" : false\n",
      "    },\n",
      "    \"name\" : \"Sunny\",\n",
      "    \"weight\" : 1.0\n",
      "}), (0, {\n",
      "    \"class\" : \"State\",\n",
      "    \"distribution\" : {\n",
      "        \"class\" : \"Distribution\",\n",
      "        \"dtype\" : \"str\",\n",
      "        \"name\" : \"DiscreteDistribution\",\n",
      "        \"parameters\" : [\n",
      "            {\n",
      "                \"good\" : 0.6,\n",
      "                \"bad\" : 0.4\n",
      "            }\n",
      "        ],\n",
      "        \"frozen\" : false\n",
      "    },\n",
      "    \"name\" : \"Cloudy\",\n",
      "    \"weight\" : 1.0\n",
      "}), (1, {\n",
      "    \"class\" : \"State\",\n",
      "    \"distribution\" : {\n",
      "        \"class\" : \"Distribution\",\n",
      "        \"dtype\" : \"str\",\n",
      "        \"name\" : \"DiscreteDistribution\",\n",
      "        \"parameters\" : [\n",
      "            {\n",
      "                \"good\" : 0.1,\n",
      "                \"bad\" : 0.9\n",
      "            }\n",
      "        ],\n",
      "        \"frozen\" : false\n",
      "    },\n",
      "    \"name\" : \"Rainy\",\n",
      "    \"weight\" : 1.0\n",
      "}), (1, {\n",
      "    \"class\" : \"State\",\n",
      "    \"distribution\" : {\n",
      "        \"class\" : \"Distribution\",\n",
      "        \"dtype\" : \"str\",\n",
      "        \"name\" : \"DiscreteDistribution\",\n",
      "        \"parameters\" : [\n",
      "            {\n",
      "                \"good\" : 0.1,\n",
      "                \"bad\" : 0.9\n",
      "            }\n",
      "        ],\n",
      "        \"frozen\" : false\n",
      "    },\n",
      "    \"name\" : \"Rainy\",\n",
      "    \"weight\" : 1.0\n",
      "}), (0, {\n",
      "    \"class\" : \"State\",\n",
      "    \"distribution\" : {\n",
      "        \"class\" : \"Distribution\",\n",
      "        \"dtype\" : \"str\",\n",
      "        \"name\" : \"DiscreteDistribution\",\n",
      "        \"parameters\" : [\n",
      "            {\n",
      "                \"good\" : 0.6,\n",
      "                \"bad\" : 0.4\n",
      "            }\n",
      "        ],\n",
      "        \"frozen\" : false\n",
      "    },\n",
      "    \"name\" : \"Cloudy\",\n",
      "    \"weight\" : 1.0\n",
      "})]\n"
     ]
    }
   ],
   "source": [
    "print(viterbi_path)"
   ]
  }
 ],
 "metadata": {
  "kernelspec": {
   "display_name": "Python 3",
   "language": "python",
   "name": "python3"
  },
  "language_info": {
   "codemirror_mode": {
    "name": "ipython",
    "version": 3
   },
   "file_extension": ".py",
   "mimetype": "text/x-python",
   "name": "python",
   "nbconvert_exporter": "python",
   "pygments_lexer": "ipython3",
   "version": "3.8.5"
  }
 },
 "nbformat": 4,
 "nbformat_minor": 4
}
