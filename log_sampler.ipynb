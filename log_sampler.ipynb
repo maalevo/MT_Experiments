{
 "cells": [
  {
   "cell_type": "code",
   "execution_count": 25,
   "metadata": {},
   "outputs": [],
   "source": [
    "from pm4py.objects.log.exporter.xes import exporter as xes_exporter\n",
    "from pm4py.objects.log.importer.xes import importer as xes_importer\n",
    "from pm4py.algo.filtering.log.attributes import attributes_filter\n",
    "from pm4py.util import constants\n",
    "\n",
    "import random"
   ]
  },
  {
   "cell_type": "code",
   "execution_count": 21,
   "metadata": {},
   "outputs": [
    {
     "data": {
      "application/vnd.jupyter.widget-view+json": {
       "model_id": "d4fcdbaeca2741328957fbdcbcae7ea4",
       "version_major": 2,
       "version_minor": 0
      },
      "text/plain": [
       "parsing log, completed traces ::   0%|          | 0/7065 [00:00<?, ?it/s]"
      ]
     },
     "metadata": {},
     "output_type": "display_data"
    }
   ],
   "source": [
    "path = \"Datasets/BPIC20.xes\"\n",
    "log = xes_importer.apply(path)"
   ]
  },
  {
   "cell_type": "code",
   "execution_count": 33,
   "metadata": {},
   "outputs": [],
   "source": [
    "random.seed(1633048)\n",
    "sample_size = int(len(log)* 0.05)\n",
    "sample_indices = random.sample(range(len(log)), sample_size) # array of samples\n",
    "\n",
    "for trace in log:\n",
    "    for event in trace:\n",
    "        event[\"keep\"] = 0 # mark all trace to be not kept\n",
    "        \n",
    "for trace_index in sample_indices:\n",
    "    for event in log[trace_index]:\n",
    "        event[\"keep\"] = 1 # mark events in traces to be kept\n",
    "        \n",
    "log_sample = attributes_filter.apply_numeric_events(log, 1, 1, \n",
    "                                                     parameters={constants.PARAMETER_CONSTANT_ATTRIBUTE_KEY: \"keep\"})"
   ]
  },
  {
   "cell_type": "code",
   "execution_count": 34,
   "metadata": {},
   "outputs": [],
   "source": [
    "xes_exporter.apply(log_sample, path.replace(\".xes\", \"_sample.xes\"))"
   ]
  }
 ],
 "metadata": {
  "kernelspec": {
   "display_name": "Python 3",
   "language": "python",
   "name": "python3"
  },
  "language_info": {
   "codemirror_mode": {
    "name": "ipython",
    "version": 3
   },
   "file_extension": ".py",
   "mimetype": "text/x-python",
   "name": "python",
   "nbconvert_exporter": "python",
   "pygments_lexer": "ipython3",
   "version": "3.8.5"
  }
 },
 "nbformat": 4,
 "nbformat_minor": 4
}
